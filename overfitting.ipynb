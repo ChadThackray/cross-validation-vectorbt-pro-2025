{
 "cells": [
  {
   "cell_type": "code",
   "execution_count": 2,
   "metadata": {},
   "outputs": [],
   "source": [
    "import vectorbtpro as vbt\n",
    "import numpy as np\n",
    "import pandas as pd\n",
    "from numba import njit"
   ]
  },
  {
   "cell_type": "code",
   "execution_count": 4,
   "metadata": {},
   "outputs": [
    {
     "data": {
      "application/vnd.jupyter.widget-view+json": {
       "model_id": "3d9e9d9afcde49e7ab9fa9c90fae8ea4",
       "version_major": 2,
       "version_minor": 0
      },
      "text/plain": [
       "  0%|          | 0/1 [00:02<?, ?it/s, symbol=BTCUSDT]"
      ]
     },
     "metadata": {},
     "output_type": "display_data"
    },
    {
     "data": {
      "application/vnd.jupyter.widget-view+json": {
       "model_id": "7fe4a04fedb74189b413044ccbdc5a4d",
       "version_major": 2,
       "version_minor": 0
      },
      "text/plain": [
       "4it [00:02,  1.58it/s, 2020-01-01 00:00 → 2020-02-11 16:00]"
      ]
     },
     "metadata": {},
     "output_type": "display_data"
    }
   ],
   "source": [
    "data = vbt.BinanceData.pull(\n",
    "    symbols=['BTCUSDT'],\n",
    "    start='2020-01-01 UTC',\n",
    "    end='2021-01-01 UTC',\n",
    "    timeframe=\"15m\",\n",
    ")"
   ]
  },
  {
   "cell_type": "code",
   "execution_count": 10,
   "metadata": {},
   "outputs": [],
   "source": [
    "@vbt.parameterized(\n",
    "    merge_func=\"concat\"\n",
    ")\n",
    "def rsi_pipeline(data, upper_threshold=70, lower_threshold=30):\n",
    "    rsi = vbt.RSI.run(close=data).rsi\n",
    "    entries = rsi.vbt.crossed_below(lower_threshold)\n",
    "    exits = rsi.vbt.crossed_above(upper_threshold)\n",
    "    pf = vbt.Portfolio.from_signals(\n",
    "        data,\n",
    "        long_entries=entries,\n",
    "        long_exits=exits,\n",
    "    )\n",
    "\n",
    "    if len(pf.trades) < 1:\n",
    "        return vbt.NoResult\n",
    "\n",
    "    return pf.sharpe_ratio"
   ]
  },
  {
   "cell_type": "code",
   "execution_count": 12,
   "metadata": {},
   "outputs": [
    {
     "data": {
      "application/vnd.jupyter.widget-view+json": {
       "model_id": "f54f9d1a4f9d413289937196f6c7392f",
       "version_major": 2,
       "version_minor": 0
      },
      "text/plain": [
       " 18%|#8        | 108/600 [00:02<00:09, 53.62it/s, upper=65, lower=28]"
      ]
     },
     "metadata": {},
     "output_type": "display_data"
    }
   ],
   "source": [
    "grid = rsi_pipeline(\n",
    "    data.close,\n",
    "    vbt.Param(range(60,90,1), name=\"upper\"),\n",
    "    vbt.Param(range(20,40,1), name=\"lower\")\n",
    ")"
   ]
  },
  {
   "cell_type": "code",
   "execution_count": 13,
   "metadata": {},
   "outputs": [
    {
     "data": {
      "text/plain": [
       "upper  lower  symbol \n",
       "60     20     BTCUSDT   -1.071379\n",
       "       21     BTCUSDT   -1.052097\n",
       "61     20     BTCUSDT   -0.948015\n",
       "       21     BTCUSDT   -0.931126\n",
       "62     20     BTCUSDT   -0.827772\n",
       "                           ...   \n",
       "89     37     BTCUSDT    2.286922\n",
       "       34     BTCUSDT    2.297431\n",
       "       35     BTCUSDT    2.299347\n",
       "       32     BTCUSDT    2.335433\n",
       "       33     BTCUSDT    2.335433\n",
       "Name: sharpe_ratio, Length: 600, dtype: float64"
      ]
     },
     "execution_count": 13,
     "metadata": {},
     "output_type": "execute_result"
    }
   ],
   "source": [
    "grid.sort_values()"
   ]
  },
  {
   "cell_type": "code",
   "execution_count": 14,
   "metadata": {},
   "outputs": [
    {
     "data": {
      "application/vnd.jupyter.widget-view+json": {
       "model_id": "1b4ba1830efd4592937ea83c72e2a1b2",
       "version_major": 2,
       "version_minor": 0
      },
      "text/plain": [
       "  0%|          | 0/1 [00:02<?, ?it/s, symbol=BTCUSDT]"
      ]
     },
     "metadata": {},
     "output_type": "display_data"
    },
    {
     "data": {
      "application/vnd.jupyter.widget-view+json": {
       "model_id": "78f1a6ef6b654ce6a005190e15e92f1f",
       "version_major": 2,
       "version_minor": 0
      },
      "text/plain": [
       "4it [00:02,  1.59it/s, 2021-01-01 00:00 → 2021-02-11 16:15]"
      ]
     },
     "metadata": {},
     "output_type": "display_data"
    }
   ],
   "source": [
    "data2 = vbt.BinanceData.pull(\n",
    "    symbols=['BTCUSDT'],\n",
    "    start='2021-01-01 UTC',\n",
    "    end='2022-01-01 UTC',\n",
    "    timeframe=\"15m\",\n",
    ")"
   ]
  },
  {
   "cell_type": "code",
   "execution_count": 16,
   "metadata": {},
   "outputs": [
    {
     "data": {
      "text/plain": [
       "symbol\n",
       "BTCUSDT    0.869423\n",
       "Name: sharpe_ratio, dtype: float64"
      ]
     },
     "execution_count": 16,
     "metadata": {},
     "output_type": "execute_result"
    }
   ],
   "source": [
    "rsi_pipeline(\n",
    "    data2.close,\n",
    "    89,\n",
    "    33\n",
    ")"
   ]
  },
  {
   "cell_type": "code",
   "execution_count": 19,
   "metadata": {},
   "outputs": [
    {
     "data": {
      "text/plain": [
       "symbol\n",
       "BTCUSDT    2.200665\n",
       "Name: sharpe_ratio, dtype: float64"
      ]
     },
     "execution_count": 19,
     "metadata": {},
     "output_type": "execute_result"
    }
   ],
   "source": [
    "vbt.Portfolio.from_holding(data.close).sharpe_ratio"
   ]
  }
 ],
 "metadata": {
  "kernelspec": {
   "display_name": "venv",
   "language": "python",
   "name": "python3"
  },
  "language_info": {
   "codemirror_mode": {
    "name": "ipython",
    "version": 3
   },
   "file_extension": ".py",
   "mimetype": "text/x-python",
   "name": "python",
   "nbconvert_exporter": "python",
   "pygments_lexer": "ipython3",
   "version": "3.12.3"
  }
 },
 "nbformat": 4,
 "nbformat_minor": 2
}
